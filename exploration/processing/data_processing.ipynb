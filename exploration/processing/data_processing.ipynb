{
 "cells": [
  {
   "cell_type": "code",
   "execution_count": 121,
   "metadata": {},
   "outputs": [],
   "source": [
    "from langchain.schema import Document\n",
    "from langchain_huggingface.embeddings import HuggingFaceEmbeddings\n",
    "import re\n",
    "from langchain.text_splitter import CharacterTextSplitter\n",
    "import warnings\n",
    "import pdfplumber\n",
    "from spellchecker import SpellChecker\n",
    "warnings.filterwarnings(\"ignore\")"
   ]
  },
  {
   "cell_type": "code",
   "execution_count": 122,
   "metadata": {},
   "outputs": [],
   "source": [
    "pdf_path = \"../data/Study permit_ Who can apply - Canada.ca.pdf\""
   ]
  },
  {
   "cell_type": "code",
   "execution_count": 124,
   "metadata": {},
   "outputs": [],
   "source": [
    "SECTION_MIN_SIZE = 28.4\n",
    "SECTION_MAX_SIZE = 28.6\n",
    "SUBSECTION_MIN_SIZE = 26.9\n",
    "SUBSECTION_MAX_SIZE = 27"
   ]
  },
  {
   "cell_type": "code",
   "execution_count": 125,
   "metadata": {},
   "outputs": [],
   "source": [
    "def detect_headers_and_footers(pdf_path):\n",
    "    header = \"\"\n",
    "    footers = []\n",
    "    ref_link = \"\"\n",
    "    with pdfplumber.open(pdf_path) as pdf:\n",
    "        for page in pdf.pages:\n",
    "            txt = page.extract_text_lines()\n",
    "            \n",
    "            if not header:\n",
    "                header = txt[0]['text']\n",
    "                \n",
    "            footer = txt[-1]['text']\n",
    "            if footer not in footers:\n",
    "                footers.append(footer)\n",
    "                \n",
    "            ref_link = footer.split()[0]\n",
    "                \n",
    "    return header, footers, ref_link"
   ]
  },
  {
   "cell_type": "code",
   "execution_count": 126,
   "metadata": {},
   "outputs": [],
   "source": [
    "header, footers, ref_link = detect_headers_and_footers(pdf_path)"
   ]
  },
  {
   "cell_type": "code",
   "execution_count": 127,
   "metadata": {},
   "outputs": [],
   "source": [
    "\n",
    "def clean_content(content, txt_removed=None):\n",
    "    content = content.encode('utf-8').decode('utf-8')\n",
    "    content = re.sub(r'\\ue107', '', content)\n",
    "    content = re.sub(r'\\n', ' ', content)\n",
    "    content = content.replace(f'{header}', '')\n",
    "    txt_replace = \"Mail delivery is resuming but there will be delays We’re still processing applications normally, but there may still be delays with sending applications mailed within or to Canada getting mail from us We still encourage you to apply online if possible. If you need to apply on paper, use a courier to send us your application more quickly.\"\n",
    "    content = content.replace(txt_replace, '')\n",
    "    content = re.sub(r'\\ue092 Date modified: \\d\\d\\d\\d-\\d\\d-\\d\\d', '', content)\n",
    "    for footer in footers:\n",
    "        content = content.replace(footer, '')\n",
    "    content = re.sub(r'\\s+', ' ', content)\n",
    "    return content"
   ]
  },
  {
   "cell_type": "code",
   "execution_count": 128,
   "metadata": {},
   "outputs": [],
   "source": [
    "def extract_hyperlinks(pdf_path):\n",
    "    hyperlinks = []\n",
    "    with pdfplumber.open(pdf_path) as pdf:\n",
    "        for page_num, page in enumerate(pdf.pages):\n",
    "            for annotation in page.annots:\n",
    "                if str(annotation['data'][\"Subtype\"]) == \"/'Link'\":\n",
    "                    uri = annotation.get(\"uri\", None)\n",
    "                    if uri:\n",
    "                        # Get the bounding box coordinates for the link\n",
    "                        x0, y0, x1, y1 = annotation['x0'], annotation['top'], annotation['x1'], annotation['bottom']\n",
    "                        \n",
    "                        # Extract text within the bounding box\n",
    "                        text_content = \"\"\n",
    "                        for char in page.chars:\n",
    "                            if x0 <= char['x0'] and char['x1'] <= x1 and y0 <= char['top'] and char['bottom'] <= y1:\n",
    "                                text_content += char.get('text', '')\n",
    "                        \n",
    "                        hyperlink = {\n",
    "                            \"uri\": uri,\n",
    "                            \"text\": text_content.strip()\n",
    "                        }\n",
    "                        hyperlinks.append(hyperlink)\n",
    "    return hyperlinks"
   ]
  },
  {
   "cell_type": "code",
   "execution_count": 129,
   "metadata": {},
   "outputs": [],
   "source": [
    "def detect_section_with_content(pdf_path, skip_tags=None, category=None):\n",
    "    if skip_tags is None:\n",
    "        skip_tags = []\n",
    "    \n",
    "    sections_with_content = []\n",
    "    current_section = None\n",
    "    current_subsection = None\n",
    "    current_content = []\n",
    "    subsection_indexes = {}\n",
    "    \n",
    "    \n",
    "\n",
    "    with pdfplumber.open(pdf_path) as pdf:\n",
    "        for page_num, page in enumerate(pdf.pages):\n",
    "            text_with_coords = page.extract_text_lines()\n",
    "            for line in text_with_coords:\n",
    "                text = line['text']\n",
    "                \n",
    "                if line['chars'][0]['fontname'] == 'CAAAAA+Lato-Bold' and SECTION_MIN_SIZE <= line['chars'][0]['size'] < SECTION_MAX_SIZE:\n",
    "                    if current_section and current_content:\n",
    "                        sections_with_content[-1]['content'] = ' '.join(current_content).strip()\n",
    "                    if text not in skip_tags:  # Skip section if in skip_tags\n",
    "                        current_section = line['text']\n",
    "                        current_content = []\n",
    "                        if category != None:\n",
    "                            sections_with_content.append({\n",
    "                                'tag': category,\n",
    "                                'section': current_section,\n",
    "                                'subsections': [],\n",
    "                                'content': ''\n",
    "                            })\n",
    "                        else:\n",
    "                            sections_with_content.append({\n",
    "                                'section': current_section,\n",
    "                                'subsections': [],\n",
    "                                'content': ''\n",
    "                            })\n",
    "                        section_index = len(sections_with_content) - 1\n",
    "                        subsection_indexes = {}\n",
    "                elif line['chars'][0]['fontname'] == 'CAAAAA+Lato-Bold' and SUBSECTION_MIN_SIZE <= line['chars'][0]['size'] < SUBSECTION_MAX_SIZE:\n",
    "                    if current_subsection and current_content:\n",
    "                        subsection_content = current_subsection + \": \" + clean_content(' '.join(current_content).strip())\n",
    "                        if current_subsection in subsection_indexes:\n",
    "                            sections_with_content[section_index]['subsections'][subsection_indexes[current_subsection]]['content'] = subsection_content\n",
    "                        else:\n",
    "                            if current_subsection not in skip_tags:  # Skip subsection if in skip_tags\n",
    "                                sections_with_content[section_index]['subsections'].append({\n",
    "                                    'content': subsection_content\n",
    "                                })\n",
    "                                subsection_indexes[current_subsection] = len(sections_with_content[section_index]['subsections']) - 1\n",
    "                    current_subsection = line['text']\n",
    "                    current_content = []\n",
    "                elif current_subsection != \"On this page\":\n",
    "                    current_content.append(line['text'])\n",
    "                  \n",
    "                    \n",
    "                if current_subsection and current_content:\n",
    "                    subsection_content = current_subsection + \": \" + clean_content(' '.join(current_content).strip())\n",
    "                    if current_subsection in subsection_indexes:\n",
    "                        sections_with_content[section_index]['subsections'][subsection_indexes[current_subsection]]['content'] = subsection_content\n",
    "                    else:\n",
    "                        if current_subsection not in skip_tags:  # Skip subsection if in skip_tags\n",
    "                            sections_with_content[section_index]['subsections'].append({\n",
    "                                'content': subsection_content\n",
    "                            })\n",
    "                            subsection_indexes[current_subsection] = len(sections_with_content[section_index]['subsections']) - 1   \n",
    "                elif current_section and current_content:\n",
    "                    sections_with_content[-1]['content'] = clean_content(' '.join(current_content).strip())\n",
    "        \n",
    "    return sections_with_content"
   ]
  },
  {
   "cell_type": "code",
   "execution_count": 130,
   "metadata": {},
   "outputs": [],
   "source": [
    "test = detect_section_with_content(pdf_path, skip_tags=['Study permit'], category='Study permit')"
   ]
  },
  {
   "cell_type": "code",
   "execution_count": 131,
   "metadata": {},
   "outputs": [
    {
     "data": {
      "text/plain": [
       "[{'tag': 'Study permit',\n",
       "  'section': 'Who can apply',\n",
       "  'subsections': [{'content': 'Eligibility requirements: You can come to Canada to study if you are enrolled at a DLI prove you have enough money to pay for your tuition fees living expenses for yourself and any family members who come with you to Canada and return transportation for yourself and any family members who come with you to Canada obey the law, have no criminal record and get a police certificate (if required) are in good health and get a medical exam (if required) and prove to an officer that you will leave Canada when your study permit expires'},\n",
       "   {'content': 'Your responsibilities as a student: While studying in Canada you must make progress towards completing your program respect any conditions listed on your study permit stop studying if you no longer meet the requirements Depending on your case, there may be conditions on your study permit such as if you’re allowed to work in Canada the specific date you must leave Canada where you can study (a specific DLI listed on your permit) You need to follow our instructions if you want to change schools at the post-secondary level. whether you need an immigration medical examination'},\n",
       "   {'content': 'Other considerations: You may be able to stay and work in Canada after you graduate with a post- graduation work permit (PGWP). Check if the DLI you choose offers PGWP-eligible programs. Who doesn’t need a permit to study in Canada Most foreign nationals need a study permit to study in Canada. The cases below are exceptions. Short-term students You don’t need a study permit if you’re coming to Canada for a program that lasts 6 months or less. Family or staff of foreign representatives You may not need a study permit if you’re a family or staff member of a foreign representative to Canada that has been accredited by Global Affairs Canada (GAC). Your embassy can contact GAC to find out if you need one. Members of the foreign armed forces of a country designated under the Visiting Forces Act (VFA) You don’t need a study permit if you’re a member of a foreign armed force (as part of either the military or a designated civilian personnel) from a country that is designated under the VFA and you’re on official duties in Canada. You should be in possession of a letter of acceptance from Canada’s Department of National Defence. If your family members, including minor children, want to study in Canada, they may need a study permit. Registered Indians in Canada You don’t need a study permit if you have Registered Indian status in Canada, even if you’re a citizen of another country. Minor children in Canada Minor children don’t need a study permit if they’re refugees or refugee claimants their parents are refugees or refugee claimants their parents are Canadian citizens or permanent residents of Canada they’re in Canada attending preschool, primary school or secondary school, and they are accompanied by a parent who has authorization to study or work in Canada they’re in Canada unaccompanied, and they’re attending preschool, primary school or secondary school Why you may still want them to get a study permit Having a valid study permit means the minor may be able to get a secondary school co-op work permit have access to social services in some provinces or territories move between education levels without needing to change or apply for a new permit When minor children reach the age of majority (18 or 19 years old, depending on the province or territory), they must apply for a study permit if they want to keep studying. Learn more about minors studying in Canada. Temporary residents and asylum seekers taking French language and culture courses You don’t need a study permit to take French language and cultural integration courses in Quebec (linked page is available in French only). To be eligible for the courses, you need to be a temporary resident or asylum seeker in Canada. Temporary residents taking settlement and integration courses If you’re taking settlement and integration courses offered by a provincial or territorial government to help you settle into Canada, you don’t need a study permit. Workers who can study without a study permit You may be eligible to study without a study permit if you are in either of the following situations: 1. You have a valid work permit that you applied for on or before June 7, 2023. 2. You have been issued a letter authorizing you to work while we process your work permit extension application that was submitted on or before June 7, 2023. Find out if you’re eligible. Why you may still want to get a study permit If you have a study permit and you’re registered as a full-time student at a DLI, you may be able to work on-campus or off-campus. If you are able to do so, your study permit will include a condition that says you’re allowed to work while studying. If you don’t have a study permit, you can’t work while you’re studying in Canada. In this case, you need to apply for a work permit. Learn more about working while studying in Canada. Get the right documents '}],\n",
       "  'content': ''}]"
      ]
     },
     "execution_count": 131,
     "metadata": {},
     "output_type": "execute_result"
    }
   ],
   "source": [
    "test"
   ]
  },
  {
   "cell_type": "code",
   "execution_count": 132,
   "metadata": {},
   "outputs": [],
   "source": [
    "def combine_subsection_content(sections):\n",
    "    for section in sections:\n",
    "        subsection_content = ' '.join([subsection['content'] for subsection in section['subsections']])\n",
    "        section['embedding_text'] = section['section'] + \" > \" + section['content'] + \" \" + subsection_content\n",
    "        \n",
    "        # Remove content and subsections\n",
    "        del section['content']\n",
    "        del section['subsections']\n",
    "    return sections"
   ]
  },
  {
   "cell_type": "code",
   "execution_count": 133,
   "metadata": {},
   "outputs": [],
   "source": [
    "combine_test = combine_subsection_content(test)"
   ]
  },
  {
   "cell_type": "code",
   "execution_count": 134,
   "metadata": {},
   "outputs": [
    {
     "data": {
      "text/plain": [
       "[{'tag': 'Study permit',\n",
       "  'section': 'Who can apply',\n",
       "  'embedding_text': 'Who can apply >  Eligibility requirements: You can come to Canada to study if you are enrolled at a DLI prove you have enough money to pay for your tuition fees living expenses for yourself and any family members who come with you to Canada and return transportation for yourself and any family members who come with you to Canada obey the law, have no criminal record and get a police certificate (if required) are in good health and get a medical exam (if required) and prove to an officer that you will leave Canada when your study permit expires Your responsibilities as a student: While studying in Canada you must make progress towards completing your program respect any conditions listed on your study permit stop studying if you no longer meet the requirements Depending on your case, there may be conditions on your study permit such as if you’re allowed to work in Canada the specific date you must leave Canada where you can study (a specific DLI listed on your permit) You need to follow our instructions if you want to change schools at the post-secondary level. whether you need an immigration medical examination Other considerations: You may be able to stay and work in Canada after you graduate with a post- graduation work permit (PGWP). Check if the DLI you choose offers PGWP-eligible programs. Who doesn’t need a permit to study in Canada Most foreign nationals need a study permit to study in Canada. The cases below are exceptions. Short-term students You don’t need a study permit if you’re coming to Canada for a program that lasts 6 months or less. Family or staff of foreign representatives You may not need a study permit if you’re a family or staff member of a foreign representative to Canada that has been accredited by Global Affairs Canada (GAC). Your embassy can contact GAC to find out if you need one. Members of the foreign armed forces of a country designated under the Visiting Forces Act (VFA) You don’t need a study permit if you’re a member of a foreign armed force (as part of either the military or a designated civilian personnel) from a country that is designated under the VFA and you’re on official duties in Canada. You should be in possession of a letter of acceptance from Canada’s Department of National Defence. If your family members, including minor children, want to study in Canada, they may need a study permit. Registered Indians in Canada You don’t need a study permit if you have Registered Indian status in Canada, even if you’re a citizen of another country. Minor children in Canada Minor children don’t need a study permit if they’re refugees or refugee claimants their parents are refugees or refugee claimants their parents are Canadian citizens or permanent residents of Canada they’re in Canada attending preschool, primary school or secondary school, and they are accompanied by a parent who has authorization to study or work in Canada they’re in Canada unaccompanied, and they’re attending preschool, primary school or secondary school Why you may still want them to get a study permit Having a valid study permit means the minor may be able to get a secondary school co-op work permit have access to social services in some provinces or territories move between education levels without needing to change or apply for a new permit When minor children reach the age of majority (18 or 19 years old, depending on the province or territory), they must apply for a study permit if they want to keep studying. Learn more about minors studying in Canada. Temporary residents and asylum seekers taking French language and culture courses You don’t need a study permit to take French language and cultural integration courses in Quebec (linked page is available in French only). To be eligible for the courses, you need to be a temporary resident or asylum seeker in Canada. Temporary residents taking settlement and integration courses If you’re taking settlement and integration courses offered by a provincial or territorial government to help you settle into Canada, you don’t need a study permit. Workers who can study without a study permit You may be eligible to study without a study permit if you are in either of the following situations: 1. You have a valid work permit that you applied for on or before June 7, 2023. 2. You have been issued a letter authorizing you to work while we process your work permit extension application that was submitted on or before June 7, 2023. Find out if you’re eligible. Why you may still want to get a study permit If you have a study permit and you’re registered as a full-time student at a DLI, you may be able to work on-campus or off-campus. If you are able to do so, your study permit will include a condition that says you’re allowed to work while studying. If you don’t have a study permit, you can’t work while you’re studying in Canada. In this case, you need to apply for a work permit. Learn more about working while studying in Canada. Get the right documents '}]"
      ]
     },
     "execution_count": 134,
     "metadata": {},
     "output_type": "execute_result"
    }
   ],
   "source": [
    "combine_test"
   ]
  },
  {
   "cell_type": "code",
   "execution_count": 135,
   "metadata": {},
   "outputs": [],
   "source": [
    "hyperlinks = extract_hyperlinks(pdf_path)"
   ]
  },
  {
   "cell_type": "code",
   "execution_count": 136,
   "metadata": {},
   "outputs": [],
   "source": [
    "def filter_hyperlinks(hyperlinks, doc):\n",
    "    content = doc['embedding_text']\n",
    "    filtered_hyperlinks = []\n",
    "    for hyperlink in hyperlinks:\n",
    "        if hyperlink['text'].lower() in content.lower() and hyperlink['text'] != '':\n",
    "            filtered_hyperlinks.append(hyperlink)\n",
    "    return filtered_hyperlinks"
   ]
  },
  {
   "cell_type": "code",
   "execution_count": 137,
   "metadata": {},
   "outputs": [],
   "source": [
    "sample = filter_hyperlinks(hyperlinks, combine_test[0])"
   ]
  },
  {
   "cell_type": "code",
   "execution_count": 138,
   "metadata": {},
   "outputs": [],
   "source": [
    "def finalize_document(doc):\n",
    "    doc['hyperlinks'] = filter_hyperlinks(hyperlinks, doc)\n",
    "    return doc"
   ]
  },
  {
   "cell_type": "code",
   "execution_count": 139,
   "metadata": {},
   "outputs": [],
   "source": [
    "final = finalize_document(combine_test[0])"
   ]
  },
  {
   "cell_type": "code",
   "execution_count": 140,
   "metadata": {},
   "outputs": [
    {
     "data": {
      "text/plain": [
       "{'tag': 'Study permit',\n",
       " 'section': 'Who can apply',\n",
       " 'embedding_text': 'Who can apply >  Eligibility requirements: You can come to Canada to study if you are enrolled at a DLI prove you have enough money to pay for your tuition fees living expenses for yourself and any family members who come with you to Canada and return transportation for yourself and any family members who come with you to Canada obey the law, have no criminal record and get a police certificate (if required) are in good health and get a medical exam (if required) and prove to an officer that you will leave Canada when your study permit expires Your responsibilities as a student: While studying in Canada you must make progress towards completing your program respect any conditions listed on your study permit stop studying if you no longer meet the requirements Depending on your case, there may be conditions on your study permit such as if you’re allowed to work in Canada the specific date you must leave Canada where you can study (a specific DLI listed on your permit) You need to follow our instructions if you want to change schools at the post-secondary level. whether you need an immigration medical examination Other considerations: You may be able to stay and work in Canada after you graduate with a post- graduation work permit (PGWP). Check if the DLI you choose offers PGWP-eligible programs. Who doesn’t need a permit to study in Canada Most foreign nationals need a study permit to study in Canada. The cases below are exceptions. Short-term students You don’t need a study permit if you’re coming to Canada for a program that lasts 6 months or less. Family or staff of foreign representatives You may not need a study permit if you’re a family or staff member of a foreign representative to Canada that has been accredited by Global Affairs Canada (GAC). Your embassy can contact GAC to find out if you need one. Members of the foreign armed forces of a country designated under the Visiting Forces Act (VFA) You don’t need a study permit if you’re a member of a foreign armed force (as part of either the military or a designated civilian personnel) from a country that is designated under the VFA and you’re on official duties in Canada. You should be in possession of a letter of acceptance from Canada’s Department of National Defence. If your family members, including minor children, want to study in Canada, they may need a study permit. Registered Indians in Canada You don’t need a study permit if you have Registered Indian status in Canada, even if you’re a citizen of another country. Minor children in Canada Minor children don’t need a study permit if they’re refugees or refugee claimants their parents are refugees or refugee claimants their parents are Canadian citizens or permanent residents of Canada they’re in Canada attending preschool, primary school or secondary school, and they are accompanied by a parent who has authorization to study or work in Canada they’re in Canada unaccompanied, and they’re attending preschool, primary school or secondary school Why you may still want them to get a study permit Having a valid study permit means the minor may be able to get a secondary school co-op work permit have access to social services in some provinces or territories move between education levels without needing to change or apply for a new permit When minor children reach the age of majority (18 or 19 years old, depending on the province or territory), they must apply for a study permit if they want to keep studying. Learn more about minors studying in Canada. Temporary residents and asylum seekers taking French language and culture courses You don’t need a study permit to take French language and cultural integration courses in Quebec (linked page is available in French only). To be eligible for the courses, you need to be a temporary resident or asylum seeker in Canada. Temporary residents taking settlement and integration courses If you’re taking settlement and integration courses offered by a provincial or territorial government to help you settle into Canada, you don’t need a study permit. Workers who can study without a study permit You may be eligible to study without a study permit if you are in either of the following situations: 1. You have a valid work permit that you applied for on or before June 7, 2023. 2. You have been issued a letter authorizing you to work while we process your work permit extension application that was submitted on or before June 7, 2023. Find out if you’re eligible. Why you may still want to get a study permit If you have a study permit and you’re registered as a full-time student at a DLI, you may be able to work on-campus or off-campus. If you are able to do so, your study permit will include a condition that says you’re allowed to work while studying. If you don’t have a study permit, you can’t work while you’re studying in Canada. In this case, you need to apply for a work permit. Learn more about working while studying in Canada. Get the right documents ',\n",
       " 'hyperlinks': [{'uri': 'https://www.canada.ca/en/immigration-refugees-citizenship/services/study-canada/study-permit.html',\n",
       "   'text': 'Study permi'},\n",
       "  {'uri': 'https://www.canada.ca/en/immigration-refugees-citizenship/services/study-canada/study-permit/get-documents.html#gc-document-nav',\n",
       "   'text': 'Get the right documents'},\n",
       "  {'uri': 'https://www.canada.ca/en/services/immigration-citizenship/helpcentre/glossary.html#designated_learning_institution',\n",
       "   'text': 'LI'},\n",
       "  {'uri': 'https://www.canada.ca/en/immigration-refugees-citizenship/services/application/medical-police/police-certificates/how.html',\n",
       "   'text': 'police certificate'},\n",
       "  {'uri': 'https://www.canada.ca/en/immigration-refugees-citizenship/services/application/medical-police/medical-exams/requirements-temporary-residents.html',\n",
       "   'text': 'edical exam'},\n",
       "  {'uri': 'https://www.canada.ca/en/immigration-refugees-citizenship/services/study-canada/change-schools.html#s2',\n",
       "   'text': 'hange schools'},\n",
       "  {'uri': 'https://www.canada.ca/en/immigration-refugees-citizenship/services/study-canada/change-schools.html#s2',\n",
       "   'text': 't the post-secondary level'},\n",
       "  {'uri': 'https://www.canada.ca/en/immigration-refugees-citizenship/services/study-canada/work/after-graduation.html',\n",
       "   'text': 'ost-'},\n",
       "  {'uri': 'https://www.canada.ca/en/immigration-refugees-citizenship/services/study-canada/work/after-graduation.html',\n",
       "   'text': 'raduation work permit (PGWP'},\n",
       "  {'uri': 'https://www.canada.ca/en/immigration-refugees-citizenship/services/study-canada/study-permit/prepare/designated-learning-institutions-list.html',\n",
       "   'text': 'DLI you choose'},\n",
       "  {'uri': 'http://www.ircc.canada.ca/english/helpcentre/glossary.asp#foreign_national',\n",
       "   'text': 'foreign nationals'},\n",
       "  {'uri': 'http://www.international.gc.ca/protocol-protocole/index.aspx?lang=eng',\n",
       "   'text': 'GA'},\n",
       "  {'uri': 'https://www.canada.ca/en/immigration-refugees-citizenship/corporate/publications-manuals/operational-bulletins-manuals/temporary-residents/visitors/countries-designated-purposes-visiting-forces-act.html',\n",
       "   'text': 'country that is designated under the VFA'},\n",
       "  {'uri': 'https://www.sac-isc.gc.ca/eng/1100100032463/1572459644986',\n",
       "   'text': 'Registered Indian status'},\n",
       "  {'uri': 'https://www.canada.ca/en/immigration-refugees-citizenship/services/study-canada/work/intern.html',\n",
       "   'text': 'o-op work permit'},\n",
       "  {'uri': 'https://www.canada.ca/en/immigration-refugees-citizenship/services/study-canada/study-permit/prepare/minor-children.html#already',\n",
       "   'text': 'access to social services'},\n",
       "  {'uri': 'https://www.canada.ca/en/immigration-refugees-citizenship/services/study-canada/change-schools.html#moving',\n",
       "   'text': 'ove between education level'},\n",
       "  {'uri': 'https://www.canada.ca/en/immigration-refugees-citizenship/services/study-canada/study-permit/prepare/minor-children.html#who',\n",
       "   'text': 'province or territory'},\n",
       "  {'uri': 'https://www.canada.ca/en/immigration-refugees-citizenship/services/study-canada/study-permit/prepare/minor-children.html',\n",
       "   'text': 'inors studying in Canad'},\n",
       "  {'uri': 'https://www.quebec.ca/en/education/learn-french',\n",
       "   'text': 'rench language and cultural'},\n",
       "  {'uri': 'https://www.quebec.ca/en/education/learn-french',\n",
       "   'text': 'ntegration course'},\n",
       "  {'uri': 'https://www.canada.ca/en/immigration-refugees-citizenship/services/work-canada/permit/temporary/extend/after-apply.html#online',\n",
       "   'text': 'etter authorizing you to work'},\n",
       "  {'uri': 'https://www.canada.ca/en/immigration-refugees-citizenship/services/work-canada/permit/temporary/workers-study-without-study-permit.html',\n",
       "   'text': 'ind out if you’re eligible'},\n",
       "  {'uri': 'https://www.canada.ca/en/immigration-refugees-citizenship/services/study-canada/work/work-on-campus.html',\n",
       "   'text': 'on-campu'},\n",
       "  {'uri': 'https://www.canada.ca/en/immigration-refugees-citizenship/services/study-canada/work/work-off-campus.html',\n",
       "   'text': 'ff-campu'},\n",
       "  {'uri': 'https://www.canada.ca/en/immigration-refugees-citizenship/services/work-canada/permit/temporary/apply.html',\n",
       "   'text': 'apply for a wor'},\n",
       "  {'uri': 'https://www.canada.ca/en/immigration-refugees-citizenship/services/work-canada/permit/temporary/apply.html',\n",
       "   'text': 'ermit'},\n",
       "  {'uri': 'https://www.canada.ca/en/immigration-refugees-citizenship/services/study-canada/work.html',\n",
       "   'text': 'earn more about working while studying in Canada'}]}"
      ]
     },
     "execution_count": 140,
     "metadata": {},
     "output_type": "execute_result"
    }
   ],
   "source": [
    "final"
   ]
  }
 ],
 "metadata": {
  "kernelspec": {
   "display_name": "Python (spacy_env)",
   "language": "python",
   "name": "spacy_env"
  },
  "language_info": {
   "codemirror_mode": {
    "name": "ipython",
    "version": 3
   },
   "file_extension": ".py",
   "mimetype": "text/x-python",
   "name": "python",
   "nbconvert_exporter": "python",
   "pygments_lexer": "ipython3",
   "version": "3.11.4"
  }
 },
 "nbformat": 4,
 "nbformat_minor": 2
}
